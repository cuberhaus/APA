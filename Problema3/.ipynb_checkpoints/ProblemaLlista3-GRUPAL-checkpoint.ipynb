{
 "cells": [
  {
   "cell_type": "markdown",
   "id": "a1b5aebf",
   "metadata": {},
   "source": [
    "# Tercera lista - Problema grupal 3\n",
    "\n",
    "## Componentes del grupo\n",
    "\n",
    "* Pol Casacuberta Gil\n",
    "* Joaquin Faraone Prieto\n",
    "* Agnès Felip i Díaz\n",
    "* Marta Granero i Martí\n",
    "\n",
    "## Aprendiendo a sumar\n",
    "\n",
    "### Aprender a sumar dos números parece un problema fácil, pero es difícil enseñárselo a una máquina a partir de ejemplos. El objetivo de este problema es probar qué tan bueno es k-vecinos más cercanos aprendiendo esta tarea.\n",
    "\n",
    "### Vamos a limitar la tarea a aprender a sumar dos números de tres dígitos, que pueden dar como resultado un número de cuatro dígitos como máximo. Esto se puede definir como un problema de clasificación de salida múltiple. Esto significa que el clasificador devuelve una predicción que corresponde a un conjunto de clases en lugar de una sola clase.\n",
    "\n",
    "### Vamos a definir el problema como ejemplos que tienen seis atributos, los primeros tres atributos corresponden a los tres dígitos del primer número y los últimos tres a los dígitos del segundo número. La salida tiene cuatro valores, uno para cada dígito del número del resultado de la suma. Por ejemplo:\n",
    "\n",
    "|X1|X2|X3|X4|X5|X6|Y1|Y2|Y3|Y4|\n",
    "|--|--|--|--|--|--|--|--|--|--|\n",
    "|0 |1 |6 |4 |7 |7 |0 |4 |9 |3 |\n",
    "\n",
    "\n",
    "## Procedemos a realizar los ejercicios que se nos piden"
   ]
  },
  {
   "cell_type": "markdown",
   "id": "c55d3b0e",
   "metadata": {},
   "source": [
    "#### a) La primera tarea es implementar una función que genera un conjunto de datos aleatorios de sumas de dos números de tres dígitos. Aseguraos de que no haya ejemplos repetidos en el conjunto de datos."
   ]
  },
  {
   "cell_type": "code",
   "execution_count": null,
   "id": "7db09059",
   "metadata": {},
   "outputs": [],
   "source": []
  },
  {
   "cell_type": "markdown",
   "id": "ce51281b",
   "metadata": {},
   "source": [
    "#### b) Generad conjuntos de datos de tamaño creciente con no más del 20 % de los ejemplos posibles en este problema. Notad que hay 106 ejemplos posibles. Dividid los conjuntos de datos en un conjunto de entrenamiento y test con una proporción de 90 %/10 %"
   ]
  },
  {
   "cell_type": "code",
   "execution_count": null,
   "id": "88430e28",
   "metadata": {},
   "outputs": [],
   "source": []
  },
  {
   "cell_type": "markdown",
   "id": "3c8b54e6",
   "metadata": {},
   "source": [
    "#### c) Aplicad algún método de reducción de dimensionalidad a alguno de los conjuntos de datos de entrenamiento y comentad lo que se pueda apreciar en la visualización. Pensad en qué podéis representar sobre la transformación."
   ]
  },
  {
   "cell_type": "code",
   "execution_count": null,
   "id": "cc0ead0b",
   "metadata": {},
   "outputs": [],
   "source": []
  },
  {
   "cell_type": "markdown",
   "id": "6d76fb61",
   "metadata": {},
   "source": [
    "#### d) Para poder trabajar con la clasificación de salida múltiple, debéis usar el objeto $\\texttt{MultiOutputClassifier}$de $\\texttt{scikit learn}$. Esto envolverá el modelo clasificador k-vecinos más cercanos para que pueda realizar este tipo de clasificación. \n",
    "\n",
    "#### Tenéis básicamente tres hiperparámetros que podéis explorar. El número de vecinos (no tiene que ser exhaustivo, pero aseguraos de probar diferentes posibilidades y no seáis tímidos con el número de vecinos), la distancia utilizada para calcular los vecinos (encontraréis diferentes distancias disponibles en la documentación de K-nn) y si se utiliza la distancia para promediar las decisiones de los vecinos. Ajustad estos hiperparámetros para encontrar el clasificador K-nn con el mejor rendimiento para cada conjunto de datos.\n",
    "\n",
    "#### Llevará demasiado tiempo realizar la validación cruzada, así que ajustad los parámetros utilizando la puntuación obtenida por el conjunto de test. Utilizad también el parámetro $\\texttt{n_jobs=-1}$ para la clasificación K-nn y multisalida, de modo que pueda aprovechar el cálculo multinúcleo4. \n",
    "\n",
    "#### Explicad las cosas que habéis intentado y los resultados, no deis solo los mejores resultados. Tratad de dar una explicación sobre por qué algunas opciones tienen un mejor rendimiento que otras."
   ]
  },
  {
   "cell_type": "code",
   "execution_count": null,
   "id": "d2a27802",
   "metadata": {},
   "outputs": [],
   "source": []
  },
  {
   "cell_type": "markdown",
   "id": "51d283f2",
   "metadata": {},
   "source": [
    "#### e) A veces usar una representación diferente para los atributos facilita la tarea de aprendizaje. Dado que en realidad tenemos atributos categóricos que corresponden a los dígitos de los números, podemos codificarlos utilizando una codificación one hot. Transformad los atributos del conjunto de datos y calculad la precisión de los mejores hiperparámetros para cada conjunto de datos y comparad su precisión con los resultados anteriores. Representad la precisión del mejor clasificador para cada representación y tamaño de conjunto de datos. Comentad los resultados e intentad explicar lo que ha sucedido."
   ]
  },
  {
   "cell_type": "code",
   "execution_count": null,
   "id": "5467b688",
   "metadata": {},
   "outputs": [],
   "source": []
  },
  {
   "cell_type": "markdown",
   "id": "05e76c93",
   "metadata": {},
   "source": [
    "#### f) ¿Por qué creéis que esta tarea es difícil de aprender? ¿Sería más fácil si en lugar de resolverlo como un problema de clasificación de múltiples salidas usamos la suma como la clase para predecir?"
   ]
  },
  {
   "cell_type": "code",
   "execution_count": null,
   "id": "81e63a7b",
   "metadata": {},
   "outputs": [],
   "source": []
  }
 ],
 "metadata": {
  "kernelspec": {
   "display_name": "Python 3 (ipykernel)",
   "language": "python",
   "name": "python3"
  },
  "language_info": {
   "codemirror_mode": {
    "name": "ipython",
    "version": 3
   },
   "file_extension": ".py",
   "mimetype": "text/x-python",
   "name": "python",
   "nbconvert_exporter": "python",
   "pygments_lexer": "ipython3",
   "version": "3.10.8"
  }
 },
 "nbformat": 4,
 "nbformat_minor": 5
}
