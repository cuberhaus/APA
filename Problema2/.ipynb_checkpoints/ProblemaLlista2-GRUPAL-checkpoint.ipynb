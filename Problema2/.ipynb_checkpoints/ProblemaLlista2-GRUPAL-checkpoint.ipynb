{
 "cells": [
  {
   "cell_type": "markdown",
   "id": "2d8b1757",
   "metadata": {},
   "source": [
    "# Segunda lista - Problema grupal 1\n",
    "\n",
    "## Componentes del grupo\n",
    "\n",
    "* Pol Casacuberta Gil\n",
    "* Joaquin Faraone Prieto\n",
    "* Agnès Felip i Díaz\n",
    "* Marta Granero i Martí\n",
    "\n",
    "## Predicción del uso de bicicletas\n",
    "\n",
    "### El uso compartido de bicicletas es un servicio proporcionado por cualquier ciudad importante del mundo, por lo que comprender y predecir el comportamiento del sistema es un elemento clave. Vamos a trabajar con el conjunto de datos de bicicletas compartidas del repositorio de conjuntos de datos de UCI que recopila estadísticas agregadas de uso de bicicletas junto con otra información adicional relevante. Se pueden descargar los datos desde aquí [https://archive.ics.uci.edu/ml/datasets/Bike+Sharing+Dataset](https://archive.ics.uci.edu/ml/datasets/Bike+Sharing+Dataset)\n",
    "\n",
    "### El objetivo de este problema es predecir cúantas bicicletas se usarán diáriamente (el archivo day.csv). Podéis leer en el $\\texttt{Readme.txt}$ los detalles sobre las variables\n",
    "\n",
    "### Procedamos con los ejercicios que se nos piden\n",
    "\n",
    "#### a) El primer paso es preprocesar y preparar los datos antes de ajustar cualquier modelo. Hay algunas variables que no són útiles para el problema o que no tiene sentido usar. Eliminad-las del conjunto de datos. Dividid los datos en conjuntos de entrenamiento y test $(60\\%/40\\%)$. Haced una exploración mínima del conjunto de datos de entrenamiento observando las relaciones entre las variables, especialmente con la variable objetivo. Describid las cosas que hayáis visto que os parezcan interesantes. Estandarizad las variables(calculad el estandarizador a partir de los datos del entrenamiento y luego aplicadlo a los datos de test)."
   ]
  },
  {
   "cell_type": "code",
   "execution_count": null,
   "id": "d781365e",
   "metadata": {},
   "outputs": [],
   "source": []
  },
  {
   "cell_type": "markdown",
   "id": "6f86c245",
   "metadata": {},
   "source": [
    "#### b) Aplicad algun método de reducción de dimensionalidad a los datos de entrenamiento y comentad lo que se pueda apreciar en la visualización. Pensad en qué podéis representar sobre la transformación."
   ]
  },
  {
   "cell_type": "code",
   "execution_count": null,
   "id": "070f61e2",
   "metadata": {},
   "outputs": [],
   "source": []
  },
  {
   "cell_type": "markdown",
   "id": "2cf808a1",
   "metadata": {},
   "source": [
    "#### c) La variable a predecir es un conteo. En este caso podría tener sentido utilizar un regresor que use un modelo adecuado para este tipo de datos como el $\\texttt{PoissonRegressor}$ de scikit-learn. Veréis que tiene un parámetro de regularización $\\texttt{alpha}$ que necesitaréis ajustar usando validación cruzada. Con el mejor parámetro de regularización según el error de validación cruzada, ajustad el modelo con los datos de entrenamiento y calculad la $\\textit{calidad}$ del modelo con los datos de test."
   ]
  },
  {
   "cell_type": "code",
   "execution_count": null,
   "id": "8848d993",
   "metadata": {},
   "outputs": [],
   "source": []
  },
  {
   "cell_type": "markdown",
   "id": "b9aa8c90",
   "metadata": {},
   "source": [
    "#### d) A veces el modelo que parece adecuado no lo es tanto después de todo. Ajustad una regresión lineal a los datos y calculad la $\\textit{calidad}$ del modelo empleando validación cruzada y con los datos de test."
   ]
  },
  {
   "cell_type": "code",
   "execution_count": null,
   "id": "327abfd1",
   "metadata": {},
   "outputs": [],
   "source": []
  },
  {
   "cell_type": "markdown",
   "id": "75d16de8",
   "metadata": {},
   "source": [
    "#### e) Cuando se trata de entender un problema, es útil reducir el número de atributos en el modelo. Ajustad una regresión LASSO (ajustando la regularización usando la versión CV del modelo) y calculad la $\\textit{calidad}$ del modelo con los datos de test."
   ]
  },
  {
   "cell_type": "code",
   "execution_count": null,
   "id": "869a9ac0",
   "metadata": {},
   "outputs": [],
   "source": []
  },
  {
   "cell_type": "markdown",
   "id": "caa59eca",
   "metadata": {},
   "source": [
    "#### f) Ahora podemos analizar y comparar los resultados:\n",
    "* Comparad los valores pronosticados con los valores reales de los tres modelos y sus calidades. ¿Qué modelo os parece mejor? ¿Por qué?\n",
    "* Analizad los pesos de la regresión lineal y LASSO. ¿Qué atributos son más importantes? ¿Hay atributos que no son relevantes?\n",
    "* Comparad las predicciones de la regresión de Poisson y la regresión de LASSO. ¿Hay alguna diferencia en su comportamiento? ¿Qué creéis que está pasando?"
   ]
  },
  {
   "cell_type": "code",
   "execution_count": null,
   "id": "4ecd273c",
   "metadata": {},
   "outputs": [],
   "source": []
  }
 ],
 "metadata": {
  "kernelspec": {
   "display_name": "Python 3 (ipykernel)",
   "language": "python",
   "name": "python3"
  },
  "language_info": {
   "codemirror_mode": {
    "name": "ipython",
    "version": 3
   },
   "file_extension": ".py",
   "mimetype": "text/x-python",
   "name": "python",
   "nbconvert_exporter": "python",
   "pygments_lexer": "ipython3",
   "version": "3.9.12"
  }
 },
 "nbformat": 4,
 "nbformat_minor": 5
}
