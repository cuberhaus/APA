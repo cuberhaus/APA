{
 "cells": [
  {
   "cell_type": "markdown",
   "source": [
    "# Quinta lista - Problema grupal 3\n",
    "\n",
    "## Componentes del grupo\n",
    "\n",
    "* Pol Casacuberta Gil\n",
    "* Joaquin Faraone Prieto\n",
    "* Agnès Felip i Díaz\n",
    "* Marta Granero i Martí\n",
    "3. Sumemos de nuevo\n",
    "Nota: Este problema solo puede ser resuelto por grupos que resolvieron el problema de grupo\n",
    "3 de la lista 3.\n",
    "Los resultados del experimento de suma usando k-vecinos más cercanos fueron un poco decep-\n",
    "cionantes incluso transformando los atributos para una mejor representación. Las relaciones no\n",
    "lineales entre algunos atributos fueron las culpables de estos resultados no óptimos. Ahora que\n",
    "conocemos otros clasificadores, podemos probar si pueden hacer un mejor trabajo.\n",
    "El escenario será el mismo, aprendiendo a sumar números de tres dígitos con ejemplos definidos\n",
    "por seis atributos, los tres primeros atributos corresponden a los tres dígitos del primer número\n",
    "y los tres últimos a los dígitos del segundo número. La salida tiene cuatro valores, uno para cada\n",
    "dígito para cada número del resultado de la suma. Por ejemplo:"
   ],
   "metadata": {
    "collapsed": false
   }
  },
  {
   "cell_type": "markdown",
   "source": [
    "a) Dado que vamos a utilizar clasificadores más potentes, probablemente necesitemos menos\n",
    "ejemplos para funcionar mejor, así que generad dos conjuntos de datos de 25.000 y 50.000\n",
    "ejemplos. Dividid los conjuntos de datos en un conjunto de test y entrenamiento con una\n",
    "proporción de 90 %/10 %."
   ],
   "metadata": {
    "collapsed": false
   }
  },
  {
   "cell_type": "code",
   "execution_count": 1,
   "outputs": [],
   "source": [
    "import pandas as pd\n",
    "from pandas import read_csv\n",
    "\n",
    "import numpy as np\n",
    "from numpy.random import choice\n",
    "import matplotlib.pyplot as plt\n",
    "import seaborn as sns\n",
    "\n",
    "from sklearn.preprocessing import MinMaxScaler, StandardScaler\n",
    "from sklearn import set_config\n",
    "\n",
    "from sklearn.metrics import  ConfusionMatrixDisplay,\\\n",
    "                  classification_report,  RocCurveDisplay, PrecisionRecallDisplay,\\\n",
    "                    accuracy_score, f1_score, precision_score, recall_score\n",
    "from sklearn.metrics import mean_squared_error, make_scorer, mean_absolute_error\n",
    "\n",
    "from sklearn.decomposition import PCA\n",
    "from sklearn.manifold import LocallyLinearEmbedding\n",
    "\n",
    "from sklearn.neural_network import MLPClassifier, MLPRegressor\n",
    "from sklearn.neighbors import KNeighborsClassifier, KNeighborsRegressor\n",
    "\n",
    "from sklearn.multioutput import MultiOutputClassifier\n",
    "\n",
    "\n",
    "from sklearn.discriminant_analysis import LinearDiscriminantAnalysis, QuadraticDiscriminantAnalysis\n",
    "from sklearn.linear_model import LogisticRegression\n",
    "from sklearn.naive_bayes import BernoulliNB, GaussianNB, CategoricalNB, MultinomialNB\n",
    "\n",
    "\n",
    "from sklearn.inspection import permutation_importance\n",
    "from sklearn.model_selection import GridSearchCV,train_test_split, cross_val_score, TimeSeriesSplit\n",
    "\n",
    "from yellowbrick.classifier.rocauc import roc_auc\n",
    "from yellowbrick.target.feature_correlation import feature_correlation\n",
    "from yellowbrick.classifier import precision_recall_curve\n",
    "from sklearn.preprocessing import KBinsDiscretizer\n",
    "\n",
    "\n",
    "from apafib import load_electric_devices, load_energy\n",
    "\n",
    "import warnings\n",
    "\n",
    "set_config(display='text')\n",
    "warnings.filterwarnings('ignore')\n",
    "plt.rcParams.update({'font.size': 16})\n",
    "# sns.set()\n",
    "pd.set_option('display.precision', 3)"
   ],
   "metadata": {
    "collapsed": false
   }
  },
  {
   "cell_type": "code",
   "execution_count": 3,
   "outputs": [],
   "source": [
    "def save_results(clf, X_test, y_test, nclf, df):\n",
    "    df.loc[nclf,'test acc'] = accuracy_score(y_test, clf.predict(X_test))\n",
    "    df.loc[nclf,'precision score (W)'] = precision_score(y_test, clf.predict(X_test), average='weighted')\n",
    "    df.loc[nclf,'recall score (W)'] = recall_score(y_test, clf.predict(X_test), average='weighted')\n",
    "    df.loc[nclf,'f1 score (W)'] = f1_score(y_test, clf.predict(X_test), average='weighted')\n",
    "    return df\n",
    "\n",
    "results_df = pd.DataFrame()\n",
    "niter = 15\n",
    "cv = 5\n",
    "\n",
    "data_columns = ['X1','X2','X3','X4','X5','X6','Y1','Y2','Y3','Y4']\n",
    "X_columns = ['X1','X2','X3','X4','X5','X6']\n",
    "y_columns = ['Y1','Y2','Y3','Y4']\n",
    "\n",
    "#Function to create array\n",
    "def prepareArray(number, size):\n",
    "    X1 = list(map(int, str(number)))\n",
    "    while len(X1) < size:\n",
    "        X1.insert(0,0)\n",
    "    return X1\n",
    "\n",
    "\n",
    "def setFormat(first,second):\n",
    "    total = first+second\n",
    "    X1 = prepareArray(first,3)\n",
    "    X2 = prepareArray(second,3)\n",
    "    Y =  prepareArray(total,4)\n",
    "    return X1+X2+Y\n",
    "\n",
    "#setFormat(20,22) --Test\n",
    "def createDataset(n):\n",
    "    firsts= np.random.randint(0,1000, size=(n))\n",
    "    seconds= np.random.randint(0,1000, size=(n))\n",
    "    matrix = []\n",
    "\n",
    "    for first, second in zip(firsts,seconds):\n",
    "        matrix.append(setFormat(first,second))\n",
    "\n",
    "    data = pd.DataFrame(matrix, columns=data_columns)\n",
    "    data.drop_duplicates()\n",
    "\n",
    "    return data"
   ],
   "metadata": {
    "collapsed": false
   }
  },
  {
   "cell_type": "markdown",
   "source": [
    "b) Como recordaréis, este es un problema de clasificación de salida múltiple, por lo que ne-\n",
    "cesita usar el objeto MultiOutputClassifier de scikit learn. Esto envolverá los clasifi-\n",
    "cadores para que pueda realizar este tipo de clasificación.\n",
    "Usad SVC para la clasificación con un kernel rbf con diferentes valores para C. Podéis usar\n",
    "diferentes potencias de 10 para ese parámetro para ver dónde está el mejor acierto para los\n",
    "datos de test en lugar de usar validación cruzada, os tardará mucho si la usáis. Aseguraos\n",
    "de usar el parámetro n_jobs de los objetos de clasificación de salida múltiple para que las\n",
    "cosas se hagan en paralelo.\n"
   ],
   "metadata": {
    "collapsed": false
   }
  },
  {
   "cell_type": "code",
   "execution_count": null,
   "id": "2384e698",
   "metadata": {},
   "outputs": [],
   "source": []
  },
  {
   "cell_type": "markdown",
   "source": [
    "c) Usad GradientBoostingClassifier con diferentes valores para el número de estima-\n",
    "dores y la profundidad máxima de los árboles. La cantidad de estimadores no tiene que\n",
    "ser muy grande, pero probablemente necesitaréis alrededor de 50 árboles con la tasa de\n",
    "aprendizaje predeterminada. Además, los árboles demasiado poco profundos darán malos\n",
    "resultados. Evaluad el acierto sobre el test como en el apartado anterior.\n",
    "Podéis acceder a los clasificadores individuales del clasificador de salida múltiple con el\n",
    "atributo estimator_. Obtened la importancia de los atributos para cada clasificador que\n",
    "encontraréis en el atributo feature_importances e interpretad los resultados."
   ],
   "metadata": {
    "collapsed": false
   }
  },
  {
   "cell_type": "code",
   "execution_count": null,
   "outputs": [],
   "source": [],
   "metadata": {
    "collapsed": false
   }
  },
  {
   "cell_type": "markdown",
   "source": [
    "d) ¿Por qué creéis que los resultados de estos clasificadores son mejores que los del clasificador k vecinos más cercanos? ¿Por qué creéis que necesitamos menos ejemplos para estos resultados?"
   ],
   "metadata": {
    "collapsed": false
   }
  }
 ],
 "metadata": {
  "kernelspec": {
   "display_name": "Python 3 (ipykernel)",
   "language": "python",
   "name": "python3"
  },
  "language_info": {
   "codemirror_mode": {
    "name": "ipython",
    "version": 3
   },
   "file_extension": ".py",
   "mimetype": "text/x-python",
   "name": "python",
   "nbconvert_exporter": "python",
   "pygments_lexer": "ipython3",
   "version": "3.10.8"
  }
 },
 "nbformat": 4,
 "nbformat_minor": 5
}
