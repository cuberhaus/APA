{
 "cells": [
  {
   "cell_type": "markdown",
   "source": [
    "# Quinta lista - Problema grupal 3\n",
    "\n",
    "## Componentes del grupo\n",
    "\n",
    "* Pol Casacuberta Gil\n",
    "* Joaquin Faraone Prieto\n",
    "* Agnès Felip i Díaz\n",
    "* Marta Granero i Martí\n",
    "3. Sumemos de nuevo\n",
    "Nota: Este problema solo puede ser resuelto por grupos que resolvieron el problema de grupo\n",
    "3 de la lista 3.\n",
    "Los resultados del experimento de suma usando k-vecinos más cercanos fueron un poco decep-\n",
    "cionantes incluso transformando los atributos para una mejor representación. Las relaciones no\n",
    "lineales entre algunos atributos fueron las culpables de estos resultados no óptimos. Ahora que\n",
    "conocemos otros clasificadores, podemos probar si pueden hacer un mejor trabajo.\n",
    "El escenario será el mismo, aprendiendo a sumar números de tres dígitos con ejemplos definidos\n",
    "por seis atributos, los tres primeros atributos corresponden a los tres dígitos del primer número\n",
    "y los tres últimos a los dígitos del segundo número. La salida tiene cuatro valores, uno para cada\n",
    "dígito para cada número del resultado de la suma. Por ejemplo:"
   ],
   "metadata": {
    "collapsed": false
   }
  },
  {
   "cell_type": "markdown",
   "source": [
    "a) Dado que vamos a utilizar clasificadores más potentes, probablemente necesitemos menos\n",
    "ejemplos para funcionar mejor, así que generad dos conjuntos de datos de 25.000 y 50.000\n",
    "ejemplos. Dividid los conjuntos de datos en un conjunto de test y entrenamiento con una\n",
    "proporción de 90 %/10 %."
   ],
   "metadata": {
    "collapsed": false
   }
  },
  {
   "cell_type": "code",
   "execution_count": null,
   "outputs": [],
   "source": [],
   "metadata": {
    "collapsed": false
   }
  },
  {
   "cell_type": "markdown",
   "source": [
    "b) Como recordaréis, este es un problema de clasificación de salida múltiple, por lo que ne-\n",
    "cesita usar el objeto MultiOutputClassifier de scikit learn. Esto envolverá los clasifi-\n",
    "cadores para que pueda realizar este tipo de clasificación.\n",
    "Usad SVC para la clasificación con un kernel rbf con diferentes valores para C. Podéis usar\n",
    "diferentes potencias de 10 para ese parámetro para ver dónde está el mejor acierto para los\n",
    "datos de test en lugar de usar validación cruzada, os tardará mucho si la usáis. Aseguraos\n",
    "de usar el parámetro n_jobs de los objetos de clasificación de salida múltiple para que las\n",
    "cosas se hagan en paralelo.\n"
   ],
   "metadata": {
    "collapsed": false
   }
  },
  {
   "cell_type": "code",
   "execution_count": null,
   "id": "2384e698",
   "metadata": {},
   "outputs": [],
   "source": []
  },
  {
   "cell_type": "markdown",
   "source": [
    "c) Usad GradientBoostingClassifier con diferentes valores para el número de estima-\n",
    "dores y la profundidad máxima de los árboles. La cantidad de estimadores no tiene que\n",
    "ser muy grande, pero probablemente necesitaréis alrededor de 50 árboles con la tasa de\n",
    "aprendizaje predeterminada. Además, los árboles demasiado poco profundos darán malos\n",
    "resultados. Evaluad el acierto sobre el test como en el apartado anterior.\n",
    "Podéis acceder a los clasificadores individuales del clasificador de salida múltiple con el\n",
    "atributo estimator_. Obtened la importancia de los atributos para cada clasificador que\n",
    "encontraréis en el atributo feature_importances e interpretad los resultados."
   ],
   "metadata": {
    "collapsed": false
   }
  },
  {
   "cell_type": "code",
   "execution_count": null,
   "outputs": [],
   "source": [],
   "metadata": {
    "collapsed": false
   }
  },
  {
   "cell_type": "markdown",
   "source": [
    "d) ¿Por qué creéis que los resultados de estos clasificadores son mejores que los del clasificador k vecinos más cercanos? ¿Por qué creéis que necesitamos menos ejemplos para estos resultados?"
   ],
   "metadata": {
    "collapsed": false
   }
  }
 ],
 "metadata": {
  "kernelspec": {
   "display_name": "Python 3 (ipykernel)",
   "language": "python",
   "name": "python3"
  },
  "language_info": {
   "codemirror_mode": {
    "name": "ipython",
    "version": 3
   },
   "file_extension": ".py",
   "mimetype": "text/x-python",
   "name": "python",
   "nbconvert_exporter": "python",
   "pygments_lexer": "ipython3",
   "version": "3.10.8"
  }
 },
 "nbformat": 4,
 "nbformat_minor": 5
}
