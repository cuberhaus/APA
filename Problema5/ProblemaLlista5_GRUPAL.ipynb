{
 "cells": [
  {
   "cell_type": "markdown",
   "id": "73201478",
   "metadata": {},
   "source": [
    "# Quinta lista - Problema grupal 3\n",
    "\n",
    "## Componentes del grupo\n",
    "\n",
    "* Pol Casacuberta Gil\n",
    "* Joaquin Faraone Prieto\n",
    "* Agnès Felip i Díaz\n",
    "* Marta Granero I Martí\n",
    "\n",
    "## Sumemos de nuevo\n",
    "\n",
    "## Los resultados del experimento de suma usando k-vecinos más cercanos fueron un poco decepcionantes incluso transformando los atributos para una mejor representación. Las relaciones no lineales entre algunos atributos fueron las culpables de estos resultados no óptimos. Ahora que conocemos otros clasificadores, podemos probar si pueden hacer un mejor trabajo.\n",
    "\n",
    "## El escenario será el mismo, aprendiendo a sumar números de tres dígitos con ejemplos definidos por seis atributos, los tres primeros atributos corresponden a los tres dígitos del primer número y los tres últimos a los dígitos del segundo número. La salida tiene cuatro valores, uno para cada dígito para cada número del resultado de la suma. Por ejemplo:\n",
    "\n",
    "|X1|X2|X3|X4|X5|X6|Y1|Y2|Y3|Y4|\n",
    "|--|--|--|--|--|--|--|--|--|--|\n",
    "|0 |1 |6 |4 |7 |7 |0 |4 |9 |3 |\n",
    "\n",
    "\n",
    "### Procedemos a realizar los ejercicios que se nos piden"
   ]
  },
  {
   "cell_type": "markdown",
   "id": "48c93594",
   "metadata": {},
   "source": [
    "#### Incluimos las librerias necesarias"
   ]
  },
  {
   "cell_type": "code",
   "execution_count": 2,
   "id": "c0c2e44d",
   "metadata": {},
   "outputs": [],
   "source": [
    "import random\n",
    "import numpy as np\n",
    "import pandas as pd\n",
    "import matplotlib.pyplot as plt\n",
    "import seaborn as sns\n",
    "import sklearn\n",
    "\n",
    "from sklearn.metrics import mean_squared_error, r2_score, mean_absolute_error\n",
    "from sklearn.metrics import  ConfusionMatrixDisplay,classification_report,\\\n",
    "                             RocCurveDisplay, PrecisionRecallDisplay,\\\n",
    "                             accuracy_score, f1_score, precision_score, recall_score\n",
    "\n",
    "from sklearn.model_selection import cross_val_score\n",
    "\n",
    "from sklearn.preprocessing import MinMaxScaler, StandardScaler, Binarizer\n",
    "from sklearn.decomposition import PCA\n",
    "\n",
    "from sklearn.model_selection import GridSearchCV, train_test_split\n",
    "\n",
    "from sklearn.multioutput import MultiOutputClassifier\n",
    "from sklearn.neighbors import KNeighborsClassifier\n",
    "\n",
    "from sklearn.ensemble import GradientBoostingClassifier\n",
    "from sklearn.svm import LinearSVC, SVC\n",
    "\n",
    "from IPython.display import display, HTML #core.display deprecated\n",
    "show_html = lambda html: display(HTML(html))\n",
    "\n",
    "from yellowbrick.target.feature_correlation import feature_correlation\n",
    "from yellowbrick.classifier import precision_recall_curve\n",
    "from yellowbrick.classifier.rocauc import roc_auc\n",
    "\n",
    "import random\n",
    "import itertools\n",
    "from itertools import permutations\n",
    "\n",
    "import warnings\n",
    "warnings.simplefilter(action='ignore', category=FutureWarning)"
   ]
  },
  {
   "cell_type": "markdown",
   "id": "bd622c86",
   "metadata": {},
   "source": [
    "#### Definimos los atributos que tendran los datasets"
   ]
  },
  {
   "cell_type": "code",
   "execution_count": 3,
   "id": "d1b8be08",
   "metadata": {},
   "outputs": [],
   "source": [
    "columns      = [\"X1\", \"X2\", \"X3\", \"X4\", \"X5\", \"X6\", \"Y1\", \"Y2\", \"Y3\", \"Y4\"]\n",
    "data_columns = [\"X1\", \"X2\", \"X3\", \"X4\", \"X5\", \"X6\"]\n",
    "y_columns    = [\"Y1\", \"Y2\", \"Y3\", \"Y4\"]"
   ]
  },
  {
   "cell_type": "markdown",
   "id": "9b616a4f",
   "metadata": {},
   "source": [
    "#### Creación de los datasets"
   ]
  },
  {
   "cell_type": "code",
   "execution_count": 4,
   "id": "e8e8afdb",
   "metadata": {},
   "outputs": [],
   "source": [
    "#Function to create array\n",
    "def prepareArray(number, size):\n",
    "    X1 = list(map(int, str(number)))\n",
    "    while len(X1) < size:\n",
    "        X1.insert(0,0)\n",
    "    return X1\n",
    "    \n",
    "def setFormat(first,second):\n",
    "    total = first+second\n",
    "    X1 = prepareArray(first,3)\n",
    "    X2 = prepareArray(second,3)\n",
    "    Y  =  prepareArray(total,4)\n",
    "    return X1+X2+Y\n",
    "\n",
    "def createDataset(n, seed=42):\n",
    "    np.random.seed(seed)\n",
    "    firsts = np.random.randint(0, 999, size=n)\n",
    "    seconds= np.random.randint(0, 999, size=n)\n",
    "    matrix = []\n",
    "    \n",
    "    for first, second in zip(firsts,seconds):\n",
    "        matrix.append(setFormat(first,second))\n",
    "\n",
    "    data = pd.DataFrame(matrix, columns=columns)\n",
    "    data = data.drop_duplicates()\n",
    "    \n",
    "    return data\n",
    "\n",
    "def createDataset_p(n, seed=42):\n",
    "    \"\"\"\n",
    "    This method makes absolutely sure that we create exactly n \n",
    "    examples for the dataset, so that the datasets are strictly greater than each other.\n",
    "    \"\"\"\n",
    "    max_number = 999\n",
    "    np.random.seed(seed)\n",
    "    random.seed(seed)\n",
    "    values = np.linspace(0, max_number, 1000, dtype=int)\n",
    "    unique_permutations = set(permutations(values, 2))\n",
    "\n",
    "    samples = random.sample([*unique_permutations], k=n)  # picks k number of numbers from 0 to n without replacement\n",
    "    matrix = []\n",
    "    for sample in samples:\n",
    "        matrix.append(setFormat(sample[0], sample[1]))\n",
    "    data = pd.DataFrame(matrix, columns=columns)\n",
    "    data = data.drop_duplicates()\n",
    "    return data"
   ]
  },
  {
   "cell_type": "markdown",
   "id": "4ec52827",
   "metadata": {},
   "source": [
    "### a)  Dado que vamos a utilizar clasificadores más potentes, probablemente necesitemos menos ejemplos para funcionar mejor, así que generad dos conjuntos de datos de 25.000 y 50.000 ejemplos. Dividid los conjuntos de datos en un conjunto de test y entrenamiento con una proporción de 90 %/10 %"
   ]
  },
  {
   "cell_type": "markdown",
   "id": "41fdd797",
   "metadata": {},
   "source": [
    "#### Generamos los dos conjuntos de datos de 25.000 i 50.000 ejemplos"
   ]
  },
  {
   "cell_type": "code",
   "execution_count": 5,
   "id": "1e14c6a4",
   "metadata": {},
   "outputs": [],
   "source": [
    "dataset0 = 25000\n",
    "dataset1 = 50000\n",
    "\n",
    "dataset0 = pd.DataFrame(createDataset_p(dataset0))\n",
    "dataset1 = pd.DataFrame(createDataset_p(dataset1))"
   ]
  },
  {
   "cell_type": "markdown",
   "id": "d9a50b84",
   "metadata": {},
   "source": [
    "#### Dividimos los conjuntos de datoes en un conjunto de entrenamineto y test con una proporción de 90%/10% respectivamente"
   ]
  },
  {
   "cell_type": "code",
   "execution_count": 6,
   "id": "4e5b7d34",
   "metadata": {},
   "outputs": [],
   "source": [
    "X_train_0, X_test_0 = train_test_split(dataset0, test_size=0.1, random_state=42, shuffle=True)\n",
    "X_train_1, X_test_1 = train_test_split(dataset1, test_size=0.1, random_state=42, shuffle=True)\n",
    "\n",
    "y_train_0 = X_train_0[y_columns]\n",
    "X_train_0 = X_train_0.drop(y_columns, axis=1)\n",
    "y_test_0 = X_test_0[y_columns]\n",
    "X_test_0 = X_test_0.drop(y_columns, axis=1)\n",
    "\n",
    "y_train_1 = X_train_1[y_columns]\n",
    "X_train_1 = X_train_1.drop(y_columns, axis=1)\n",
    "y_test_1 = X_test_1[y_columns]\n",
    "X_test_1 = X_test_1.drop(y_columns, axis=1)"
   ]
  },
  {
   "cell_type": "markdown",
   "id": "5f79e7fb",
   "metadata": {},
   "source": [
    "### b) Como recordaréis, este es un problema de clasificación de salida múltiple, por lo que necesita usar el objeto $\\texttt{MultiOutputClassifier}$ de scikit learn. Esto envolverá los clasificadores para que pueda realizar este tipo de clasificación.\n",
    "\n",
    "### Usad $\\texttt{SVC}$ para la clasificación con un kernel rbf con diferentes valores para $\\texttt{C}$. Podéis usar diferentes potencias de 10 para ese parámetro para ver dónde está el mejor acierto para los datos de test en lugar de usar validación cruzada, os tardará mucho si la usáis. Aseguraos de usar el parámetro $\\texttt{n\\_jobs}$ de los objetos de clasificación de salida múltiple para que las cosas se hagan en paralelo."
   ]
  },
  {
   "cell_type": "markdown",
   "id": "c62f3b08",
   "metadata": {},
   "source": [
    "#### Para el primer conjunto de datos (dataset0)"
   ]
  },
  {
   "cell_type": "code",
   "execution_count": 7,
   "id": "bf91dfa4",
   "metadata": {},
   "outputs": [
    {
     "name": "stdout",
     "output_type": "stream",
     "text": [
      "[(1, 0.594), (10, 0.934), (100, 0.9584), (1000, 0.964), (10000, 0.9592), (100000, 0.9592), (1000000, 0.9592)]\n"
     ]
    }
   ],
   "source": [
    "regularization_c = [10**i for i in range(7)]\n",
    "\n",
    "resultados_dataset0 = [    \n",
    "    (r_c, MultiOutputClassifier(SVC(C=r_c,kernel='rbf',random_state=42),n_jobs=-1).fit(X_train_0,y_train_0).score(X_test_0,y_test_0)) for r_c in regularization_c]\n",
    "\n",
    "print(resultados_dataset0)"
   ]
  },
  {
   "cell_type": "code",
   "execution_count": 8,
   "id": "38ec1742",
   "metadata": {},
   "outputs": [
    {
     "data": {
      "text/plain": [
       "[0.594, 0.934, 0.9584, 0.964, 0.9592, 0.9592, 0.9592]"
      ]
     },
     "execution_count": 8,
     "metadata": {},
     "output_type": "execute_result"
    }
   ],
   "source": [
    "list_of_values_0 = list(map(lambda x: x[1], resultados_dataset0))\n",
    "list_of_values_0"
   ]
  },
  {
   "cell_type": "markdown",
   "id": "ed798166",
   "metadata": {},
   "source": [
    "#### Para el primer conjunto de datos (dataset1)"
   ]
  },
  {
   "cell_type": "code",
   "execution_count": 9,
   "id": "41df0926",
   "metadata": {},
   "outputs": [
    {
     "name": "stdout",
     "output_type": "stream",
     "text": [
      "[(1, 0.7878), (10, 0.966), (100, 0.9856), (1000, 0.989), (10000, 0.9836), (100000, 0.9836), (1000000, 0.9836)]\n"
     ]
    }
   ],
   "source": [
    "regularization_c = [10**i for i in range(7)]\n",
    "\n",
    "resultados_dataset1 = [    \n",
    "    (r_c, MultiOutputClassifier(SVC(C=r_c,kernel='rbf',random_state=42),n_jobs=-1).fit(X_train_1,y_train_1).score(X_test_1,y_test_1)) for r_c in regularization_c]\n",
    "\n",
    "print(resultados_dataset1)"
   ]
  },
  {
   "cell_type": "code",
   "execution_count": 10,
   "id": "604d62fa",
   "metadata": {},
   "outputs": [
    {
     "data": {
      "text/plain": [
       "[0.7878, 0.966, 0.9856, 0.989, 0.9836, 0.9836, 0.9836]"
      ]
     },
     "execution_count": 10,
     "metadata": {},
     "output_type": "execute_result"
    }
   ],
   "source": [
    "list_of_values_1 = list(map(lambda x: x[1], resultados_dataset1))\n",
    "list_of_values_1"
   ]
  },
  {
   "cell_type": "markdown",
   "id": "7c8fda8f",
   "metadata": {},
   "source": [
    "#### Ploteamos los resultados obtenidos"
   ]
  },
  {
   "cell_type": "code",
   "execution_count": 11,
   "id": "d0ad3ae0",
   "metadata": {},
   "outputs": [
    {
     "data": {
      "image/png": "[encoded data removed]",
      "text/plain": [
       "<Figure size 800x550 with 1 Axes>"
      ]
     },
     "metadata": {},
     "output_type": "display_data"
    }
   ],
   "source": [
    "x_values = range(len(regularization_c))\n",
    "x_label = \"Regularization parameter C\"\n",
    "y_label = \"Score\"\n",
    "title = \"Evaluación del modelo SVM con un kernel rbf\"\n",
    "legend_labels = ['Dataset0', 'Dataset1']\n",
    "\n",
    "plt.plot(list_of_values_0, marker=\"o\")\n",
    "plt.plot(list_of_values_1, marker=\"o\")\n",
    "plt.xlabel(x_label)\n",
    "plt.ylabel(y_label)\n",
    "plt.title(title)\n",
    "plt.legend(legend_labels)\n",
    "plt.xticks(x_values, regularization_c)\n",
    "plt.show()"
   ]
  },
  {
   "cell_type": "markdown",
   "id": "8950cdb6",
   "metadata": {},
   "source": [
    "#### Mejores score del dataset0"
   ]
  },
  {
   "cell_type": "code",
   "execution_count": 12,
   "id": "6f852a98",
   "metadata": {},
   "outputs": [],
   "source": [
    "def calculate_score(classifier, X_train, y_train, X_test, y_test):\n",
    "    classifier.fit(X_train, y_train)\n",
    "    return classifier.score(X_test, y_test)"
   ]
  },
  {
   "cell_type": "code",
   "execution_count": 13,
   "id": "9da5bb1b",
   "metadata": {},
   "outputs": [
    {
     "data": {
      "text/plain": [
       "0.964"
      ]
     },
     "execution_count": 13,
     "metadata": {},
     "output_type": "execute_result"
    }
   ],
   "source": [
    "r_c = 1000\n",
    "classifier = MultiOutputClassifier(SVC(C=r_c,kernel='rbf',random_state=42),n_jobs=-1)\n",
    "score = calculate_score(classifier, X_train_0, y_train_0, X_test_0, y_test_0)\n",
    "score"
   ]
  },
  {
   "cell_type": "markdown",
   "id": "eff609fa",
   "metadata": {},
   "source": [
    "#### Mejores score del dataset1"
   ]
  },
  {
   "cell_type": "code",
   "execution_count": 14,
   "id": "532e0e3d",
   "metadata": {},
   "outputs": [
    {
     "data": {
      "text/plain": [
       "0.989"
      ]
     },
     "execution_count": 14,
     "metadata": {},
     "output_type": "execute_result"
    }
   ],
   "source": [
    "r_c = 1000\n",
    "classifier = MultiOutputClassifier(SVC(C=r_c,kernel='rbf',random_state=42),n_jobs=-1)\n",
    "score = calculate_score(classifier, X_train_1, y_train_1, X_test_1, y_test_1)\n",
    "score"
   ]
  },
  {
   "cell_type": "markdown",
   "id": "90845e8a",
   "metadata": {},
   "source": [
    "### c) Usad $\\texttt{GradientBoostingClassifier}$ con diferentes valores para el número de estimadores y la profundidad máxima de los árboles. La cantidad de estimadores no tiene que ser muy grande, pero probablemente necesitaréis alrededor de 50 árboles con la tasa de aprendizaje predeterminada. Además, los árboles demasiado poco profundos darán malos resultados. Evaluad el acierto sobre el test como en el apartado anterior.\n",
    "\n",
    "### Podéis acceder a los clasificadores individuales del clasificador de salida múltiple con el atributo $\\texttt{estimator\\_}$. Obtened la importancia de los atributos para cada clasificador que encontraréis en el atributo $\\texttt{feature\\_importances}$ e interpretad los resultados."
   ]
  },
  {
   "cell_type": "markdown",
   "id": "6e3c2375",
   "metadata": {},
   "source": [
    "#### Para el dataset0"
   ]
  },
  {
   "cell_type": "code",
   "execution_count": null,
   "id": "80c23f1f",
   "metadata": {},
   "outputs": [],
   "source": [
    "estimators = [5, 10, 20, 30, 50, 70, 100]\n",
    "max_depths = [None, 1, 2, 3, 5, 8, 10, 20]\n",
    "\n",
    "resultados = [\n",
    "    (estimator, \n",
    "     [MultiOutputClassifier(GradientBoostingClassifier(n_estimators=estimator, max_depth=m_d),\n",
    "                            n_jobs=-1).fit(X_train_0, y_train_0).score(X_test_0, y_test_0) for m_d in max_depths])\n",
    "    for estimator in estimators\n",
    "]\n",
    "print(resultados)"
   ]
  },
  {
   "cell_type": "code",
   "execution_count": null,
   "id": "02f43025",
   "metadata": {},
   "outputs": [],
   "source": [
    "list_of_values_gb = list(map(lambda x: x[1], resultados))\n",
    "list_of_values_gb"
   ]
  },
  {
   "cell_type": "markdown",
   "id": "107b9ace",
   "metadata": {},
   "source": [
    "#### Ploteamos los resultados para el dataset0"
   ]
  },
  {
   "cell_type": "code",
   "execution_count": null,
   "id": "aa449480",
   "metadata": {},
   "outputs": [],
   "source": [
    "xvalues = np.arange(1, len(max_depths) + 1)\n",
    "max_depths = [str(m_d) for m_d in max_depths]\n",
    "names_estimators = [f\"{estimator} estimators\" for estimator in estimators]\n",
    "\n",
    "plt.title(\"dataset0 GBC\", fontsize=18, pad=20)\n",
    "plt.xticks(xvalues, max_depths)\n",
    "plt.yticks(np.arange(0, 1.05, 0.05))\n",
    "plt.ylabel(\"model score\")\n",
    "plt.xlabel(\"max tree depth\")\n",
    "\n",
    "for i, val in enumerate(estimators):\n",
    "    plt.plot(xvalues, list_of_values_gb[i])\n",
    "\n",
    "plt.legend(names_estimators)\n",
    "plt.grid()\n",
    "plt.show()"
   ]
  },
  {
   "cell_type": "markdown",
   "id": "b32a4b9b",
   "metadata": {},
   "source": [
    "#### Mejores parámetros para el GBC modelo"
   ]
  },
  {
   "cell_type": "code",
   "execution_count": null,
   "id": "6d939a37",
   "metadata": {},
   "outputs": [],
   "source": [
    "multi = MultiOutputClassifier(GradientBoostingClassifier(n_estimators=50,max_depth=10),n_jobs=-1);\n",
    "multi.fit(X_train_0,y_train_0);\n",
    "multi.estimators_"
   ]
  },
  {
   "cell_type": "markdown",
   "id": "8db875ed",
   "metadata": {},
   "source": [
    "#### Para el dataset1"
   ]
  },
  {
   "cell_type": "code",
   "execution_count": null,
   "id": "006c619f",
   "metadata": {},
   "outputs": [],
   "source": [
    "estimators = [5, 10, 20, 30, 50, 70, 100]\n",
    "max_depths = [None, 1, 2, 3, 5, 8, 10, 20]\n",
    "\n",
    "resultados = [\n",
    "    (estimator, \n",
    "     [MultiOutputClassifier(GradientBoostingClassifier(n_estimators=estimator, max_depth=m_d),\n",
    "                            n_jobs=-1).fit(X_train_1, y_train_1).score(X_test_1, y_test_1) for m_d in max_depths])\n",
    "    for estimator in estimators\n",
    "]\n",
    "print(resultados)"
   ]
  },
  {
   "cell_type": "code",
   "execution_count": null,
   "id": "ed86f375",
   "metadata": {},
   "outputs": [],
   "source": [
    "list_of_values_gb = list(map(lambda x: x[1], resultados))\n",
    "list_of_values_gb"
   ]
  },
  {
   "cell_type": "markdown",
   "id": "bb103d4c",
   "metadata": {},
   "source": [
    "#### Ploteamos los resultados para el dataset1"
   ]
  },
  {
   "cell_type": "code",
   "execution_count": null,
   "id": "883e07ab",
   "metadata": {},
   "outputs": [],
   "source": [
    "xvalues = np.arange(1, len(max_depths) + 1)\n",
    "max_depths = [str(m_d) for m_d in max_depths]\n",
    "names_estimators = [f\"{estimator} estimators\" for estimator in estimators]\n",
    "\n",
    "plt.title(\"dataset1 GBC\", fontsize=18, pad=20)\n",
    "plt.xticks(xvalues, max_depths)\n",
    "plt.yticks(np.arange(0, 1.05, 0.05))\n",
    "plt.ylabel(\"model score\")\n",
    "plt.xlabel(\"max tree depth\")\n",
    "\n",
    "for i, val in enumerate(estimators):\n",
    "    plt.plot(xvalues, list_of_values_gb[i])\n",
    "\n",
    "plt.legend(names_estimators)\n",
    "plt.grid()\n",
    "plt.show()"
   ]
  },
  {
   "cell_type": "markdown",
   "id": "22f2e6d0",
   "metadata": {},
   "source": [
    "#### Using the best parameters for the GBC model"
   ]
  },
  {
   "cell_type": "code",
   "execution_count": null,
   "id": "44686b68",
   "metadata": {},
   "outputs": [],
   "source": [
    "multi = MultiOutputClassifier(GradientBoostingClassifier(n_estimators=50,max_depth=10),n_jobs=-1);\n",
    "multi.fit(X_train_1,y_train_1);\n",
    "multi.estimators_"
   ]
  },
  {
   "cell_type": "markdown",
   "id": "40a3ce20",
   "metadata": {},
   "source": [
    "### d) ¿Por qué creéis que los resultados de estos clasificadores son mejores que los del clasificador k vecinos más cercanos? ¿Por qué creéis que necesitamos menos ejemplos para estos resultados?"
   ]
  },
  {
   "cell_type": "code",
   "execution_count": null,
   "id": "19dada88",
   "metadata": {},
   "outputs": [],
   "source": []
  }
 ],
 "metadata": {
  "kernelspec": {
   "display_name": "Python 3 (ipykernel)",
   "language": "python",
   "name": "python3"
  },
  "language_info": {
   "codemirror_mode": {
    "name": "ipython",
    "version": 3
   },
   "file_extension": ".py",
   "mimetype": "text/x-python",
   "name": "python",
   "nbconvert_exporter": "python",
   "pygments_lexer": "ipython3",
   "version": "3.10.8"
  }
 },
 "nbformat": 4,
 "nbformat_minor": 5
}
