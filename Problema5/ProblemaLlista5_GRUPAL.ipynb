{
 "cells": [
  {
   "cell_type": "markdown",
   "id": "73201478",
   "metadata": {},
   "source": [
    "# Quinta lista - Problema grupal 3\n",
    "\n",
    "## Componentes del grupo\n",
    "\n",
    "* Pol Casacuberta Gil\n",
    "* Joaquin Faraone Prieto\n",
    "* Agnès Felip i Díaz\n",
    "* Marta Granero I Martí\n",
    "\n",
    "## Sumemos de nuevo\n",
    "\n",
    "## Los resultados del experimento de suma usando k-vecinos más cercanos fueron un poco decepcionantes incluso transformando los atributos para una mejor representación. Las relaciones no lineales entre algunos atributos fueron las culpables de estos resultados no óptimos. Ahora que conocemos otros clasificadores, podemos probar si pueden hacer un mejor trabajo.\n",
    "\n",
    "## El escenario será el mismo, aprendiendo a sumar números de tres dígitos con ejemplos definidos por seis atributos, los tres primeros atributos corresponden a los tres dígitos del primer número y los tres últimos a los dígitos del segundo número. La salida tiene cuatro valores, uno para cada dígito para cada número del resultado de la suma. Por ejemplo:\n",
    "\n",
    "|X1|X2|X3|X4|X5|X6|Y1|Y2|Y3|Y4|\n",
    "|--|--|--|--|--|--|--|--|--|--|\n",
    "|0 |1 |6 |4 |7 |7 |0 |4 |9 |3 |\n",
    "\n",
    "\n",
    "### Procedemos a realizar los ejercicios que se nos piden"
   ]
  },
  {
   "cell_type": "markdown",
   "id": "48c93594",
   "metadata": {},
   "source": [
    "#### Incluimos las librerias necesarias"
   ]
  },
  {
   "cell_type": "code",
   "execution_count": 49,
   "id": "c0c2e44d",
   "metadata": {},
   "outputs": [],
   "source": [
    "import random\n",
    "import numpy as np\n",
    "import pandas as pd\n",
    "import matplotlib.pyplot as plt\n",
    "import seaborn as sns\n",
    "import sklearn\n",
    "\n",
    "from sklearn.metrics import mean_squared_error, r2_score, mean_absolute_error\n",
    "from sklearn.metrics import  ConfusionMatrixDisplay,classification_report,\\\n",
    "                             RocCurveDisplay, PrecisionRecallDisplay,\\\n",
    "                             accuracy_score, f1_score, precision_score, recall_score\n",
    "\n",
    "from sklearn.model_selection import cross_val_score\n",
    "\n",
    "from sklearn.preprocessing import MinMaxScaler, StandardScaler, Binarizer\n",
    "from sklearn.decomposition import PCA\n",
    "\n",
    "from sklearn.model_selection import GridSearchCV, train_test_split\n",
    "\n",
    "from sklearn.multioutput import MultiOutputClassifier\n",
    "from sklearn.neighbors import KNeighborsClassifier\n",
    "\n",
    "from sklearn.ensemble import GradientBoostingClassifier\n",
    "from sklearn.svm import LinearSVC, SVC\n",
    "\n",
    "from IPython.display import display, HTML #core.display deprecated\n",
    "show_html = lambda html: display(HTML(html))\n",
    "\n",
    "from yellowbrick.target.feature_correlation import feature_correlation\n",
    "from yellowbrick.classifier import precision_recall_curve\n",
    "from yellowbrick.classifier.rocauc import roc_auc\n",
    "\n",
    "import random\n",
    "import itertools\n",
    "from itertools import permutations\n",
    "\n",
    "import warnings\n",
    "warnings.simplefilter(action='ignore', category=FutureWarning)"
   ]
  },
  {
   "cell_type": "markdown",
   "id": "bd622c86",
   "metadata": {},
   "source": [
    "#### Definimos los atributos que tendran los datasets"
   ]
  },
  {
   "cell_type": "code",
   "execution_count": 3,
   "id": "d1b8be08",
   "metadata": {},
   "outputs": [],
   "source": [
    "columns      = [\"X1\", \"X2\", \"X3\", \"X4\", \"X5\", \"X6\", \"Y1\", \"Y2\", \"Y3\", \"Y4\"]\n",
    "data_columns = [\"X1\", \"X2\", \"X3\", \"X4\", \"X5\", \"X6\"]\n",
    "y_columns    = [\"Y1\", \"Y2\", \"Y3\", \"Y4\"]"
   ]
  },
  {
   "cell_type": "markdown",
   "id": "9b616a4f",
   "metadata": {},
   "source": [
    "#### Creación de los datasets"
   ]
  },
  {
   "cell_type": "code",
   "execution_count": 7,
   "id": "e8e8afdb",
   "metadata": {},
   "outputs": [],
   "source": [
    "#Function to create array\n",
    "def prepareArray(number, size):\n",
    "    X1 = list(map(int, str(number)))\n",
    "    while len(X1) < size:\n",
    "        X1.insert(0,0)\n",
    "    return X1\n",
    "    \n",
    "def setFormat(first,second):\n",
    "    total = first+second\n",
    "    X1 = prepareArray(first,3)\n",
    "    X2 = prepareArray(second,3)\n",
    "    Y  =  prepareArray(total,4)\n",
    "    return X1+X2+Y\n",
    "\n",
    "def createDataset(n, seed=42):\n",
    "    np.random.seed(seed)\n",
    "    firsts = np.random.randint(0, 999, size=n)\n",
    "    seconds= np.random.randint(0, 999, size=n)\n",
    "    matrix = []\n",
    "    \n",
    "    for first, second in zip(firsts,seconds):\n",
    "        matrix.append(setFormat(first,second))\n",
    "\n",
    "    data = pd.DataFrame(matrix, columns=columns)\n",
    "    data = data.drop_duplicates()\n",
    "    \n",
    "    return data\n",
    "\n",
    "def createDataset_p(n, seed=42):\n",
    "    \"\"\"\n",
    "    This method makes absolutely sure that we create exactly n \n",
    "    examples for the dataset, so that the datasets are strictly greater than each other.\n",
    "    \"\"\"\n",
    "    max_number = 999\n",
    "    np.random.seed(seed)\n",
    "    random.seed(seed)\n",
    "    values = np.linspace(0, max_number, 1000, dtype=int)\n",
    "    unique_permutations = set(permutations(values, 2))\n",
    "\n",
    "    samples = random.sample([*unique_permutations], k=n)  # picks k number of numbers from 0 to n without replacement\n",
    "    matrix = []\n",
    "    for sample in samples:\n",
    "        matrix.append(setFormat(sample[0], sample[1]))\n",
    "    data = pd.DataFrame(matrix, columns=columns)\n",
    "    data = data.drop_duplicates()\n",
    "    return data"
   ]
  },
  {
   "cell_type": "markdown",
   "id": "4ec52827",
   "metadata": {},
   "source": [
    "### a)  Dado que vamos a utilizar clasificadores más potentes, probablemente necesitemos menos ejemplos para funcionar mejor, así que generad dos conjuntos de datos de 25.000 y 50.000 ejemplos. Dividid los conjuntos de datos en un conjunto de test y entrenamiento con una proporción de 90 %/10 %"
   ]
  },
  {
   "cell_type": "markdown",
   "id": "41fdd797",
   "metadata": {},
   "source": [
    "#### Generamos los dos conjuntos de datos de 25.000 i 50.000 ejemplos"
   ]
  },
  {
   "cell_type": "code",
   "execution_count": 11,
   "id": "1e14c6a4",
   "metadata": {},
   "outputs": [],
   "source": [
    "dataset0 = 25000\n",
    "dataset1 = 50000\n",
    "\n",
    "dataset0 = pd.DataFrame(createDataset_p(dataset0))\n",
    "dataset1 = pd.DataFrame(createDataset_p(dataset1))"
   ]
  },
  {
   "cell_type": "markdown",
   "id": "d9a50b84",
   "metadata": {},
   "source": [
    "#### Dividimos los conjuntos de datoes en un conjunto de entrenamineto y test con una proporción de 90%/10% respectivamente"
   ]
  },
  {
   "cell_type": "code",
   "execution_count": 12,
   "id": "4e5b7d34",
   "metadata": {},
   "outputs": [],
   "source": [
    "X_train_0, X_test_0 = train_test_split(dataset0, test_size=0.1, random_state=42, shuffle=True)\n",
    "X_train_1, X_test_1 = train_test_split(dataset1, test_size=0.1, random_state=42, shuffle=True)\n",
    "\n",
    "y_train_0 = X_train_0[y_columns]\n",
    "X_train_0 = X_train_0.drop(y_columns, axis=1)\n",
    "y_test_0 = X_test_0[y_columns]\n",
    "X_test_0 = X_test_0.drop(y_columns, axis=1)\n",
    "\n",
    "y_train_1 = X_train_1[y_columns]\n",
    "X_train_1 = X_train_1.drop(y_columns, axis=1)\n",
    "y_test_1 = X_test_1[y_columns]\n",
    "X_test_1 = X_test_1.drop(y_columns, axis=1)"
   ]
  },
  {
   "cell_type": "markdown",
   "id": "5f79e7fb",
   "metadata": {},
   "source": [
    "### b) Como recordaréis, este es un problema de clasificación de salida múltiple, por lo que necesita usar el objeto $\\texttt{MultiOutputClassifier}$ de scikit learn. Esto envolverá los clasificadores para que pueda realizar este tipo de clasificación.\n",
    "\n",
    "### Usad $\\texttt{SVC}$ para la clasificación con un kernel rbf con diferentes valores para $\\texttt{C}$. Podéis usar diferentes potencias de 10 para ese parámetro para ver dónde está el mejor acierto para los datos de test en lugar de usar validación cruzada, os tardará mucho si la usáis. Aseguraos de usar el parámetro $\\texttt{n\\_jobs}$ de los objetos de clasificación de salida múltiple para que las cosas se hagan en paralelo."
   ]
  },
  {
   "cell_type": "markdown",
   "id": "c62f3b08",
   "metadata": {},
   "source": [
    "#### Para el primer conjunto de datos (dataset0)"
   ]
  },
  {
   "cell_type": "code",
   "execution_count": 40,
   "id": "bf91dfa4",
   "metadata": {},
   "outputs": [
    {
     "name": "stdout",
     "output_type": "stream",
     "text": [
      "1\n",
      "10\n",
      "100\n",
      "1000\n",
      "10000\n",
      "100000\n",
      "1000000\n",
      "[(1, 0.594), (10, 0.934), (100, 0.9584), (1000, 0.964), (10000, 0.9592), (100000, 0.9592), (1000000, 0.9592)]\n"
     ]
    }
   ],
   "source": [
    "regularization_c = [10**i for i in range(7)]\n",
    "\n",
    "resultados_dataset0 = [    \n",
    "    (r_c, MultiOutputClassifier(SVC(C=r_c,kernel='rbf',random_state=42),n_jobs=-1).fit(X_train_0,y_train_0).score(X_test_0,y_test_0)) for r_c in regularization_c]\n",
    "\n",
    "print(resultados_dataset0)"
   ]
  },
  {
   "cell_type": "code",
   "execution_count": 41,
   "id": "38ec1742",
   "metadata": {},
   "outputs": [
    {
     "data": {
      "text/plain": [
       "[0.594, 0.934, 0.9584, 0.964, 0.9592, 0.9592, 0.9592]"
      ]
     },
     "execution_count": 41,
     "metadata": {},
     "output_type": "execute_result"
    }
   ],
   "source": [
    "list_of_values_0 = list(map(lambda x: x[1], resultados_dataset0))\n",
    "list_of_values_0"
   ]
  },
  {
   "cell_type": "markdown",
   "id": "ed798166",
   "metadata": {},
   "source": [
    "#### Para el primer conjunto de datos (dataset1)"
   ]
  },
  {
   "cell_type": "code",
   "execution_count": 42,
   "id": "41df0926",
   "metadata": {},
   "outputs": [
    {
     "name": "stdout",
     "output_type": "stream",
     "text": [
      "1\n",
      "10\n",
      "100\n",
      "1000\n",
      "10000\n",
      "100000\n",
      "1000000\n",
      "[(1, 0.7878), (10, 0.966), (100, 0.9856), (1000, 0.989), (10000, 0.9836), (100000, 0.9836), (1000000, 0.9836)]\n"
     ]
    }
   ],
   "source": [
    "regularization_c = [10**i for i in range(7)]\n",
    "\n",
    "resultados_dataset1 = [    \n",
    "    (r_c, MultiOutputClassifier(SVC(C=r_c,kernel='rbf',random_state=42),n_jobs=-1).fit(X_train_1,y_train_1).score(X_test_1,y_test_1)) for r_c in regularization_c]\n",
    "\n",
    "print(resultados_dataset1)"
   ]
  },
  {
   "cell_type": "code",
   "execution_count": 43,
   "id": "604d62fa",
   "metadata": {},
   "outputs": [
    {
     "data": {
      "text/plain": [
       "[0.7878, 0.966, 0.9856, 0.989, 0.9836, 0.9836, 0.9836]"
      ]
     },
     "execution_count": 43,
     "metadata": {},
     "output_type": "execute_result"
    }
   ],
   "source": [
    "list_of_values_1 = list(map(lambda x: x[1], resultados_dataset1))\n",
    "list_of_values_1"
   ]
  },
  {
   "cell_type": "markdown",
   "id": "7c8fda8f",
   "metadata": {},
   "source": [
    "#### Ploteamos los resultados obtenidos"
   ]
  },
  {
   "cell_type": "code",
   "execution_count": 44,
   "id": "d0ad3ae0",
   "metadata": {},
   "outputs": [
    {
     "data": {
      "image/png": "[encoded data removed]",
      "text/plain": [
       "<Figure size 800x550 with 1 Axes>"
      ]
     },
     "metadata": {},
     "output_type": "display_data"
    }
   ],
   "source": [
    "x_values = range(len(regularization_c))\n",
    "x_label = \"Regularization parameter C\"\n",
    "y_label = \"Score\"\n",
    "title = \"Evaluación del modelo SVM con un kernel rbf\"\n",
    "legend_labels = ['Dataset0', 'Dataset1']\n",
    "\n",
    "plt.plot(list_of_values_0, marker=\"o\")\n",
    "plt.plot(list_of_values_1, marker=\"o\")\n",
    "plt.xlabel(x_label)\n",
    "plt.ylabel(y_label)\n",
    "plt.title(title)\n",
    "plt.legend(legend_labels)\n",
    "plt.xticks(x_values, regularization_c)\n",
    "plt.show()"
   ]
  },
  {
   "cell_type": "markdown",
   "id": "8950cdb6",
   "metadata": {},
   "source": [
    "#### Mejores score del dataset0"
   ]
  },
  {
   "cell_type": "code",
   "execution_count": 45,
   "id": "6f852a98",
   "metadata": {},
   "outputs": [],
   "source": [
    "def calculate_score(classifier, X_train, y_train, X_test, y_test):\n",
    "    classifier.fit(X_train, y_train)\n",
    "    return classifier.score(X_test, y_test)"
   ]
  },
  {
   "cell_type": "code",
   "execution_count": 46,
   "id": "9da5bb1b",
   "metadata": {},
   "outputs": [
    {
     "data": {
      "text/plain": [
       "0.964"
      ]
     },
     "execution_count": 46,
     "metadata": {},
     "output_type": "execute_result"
    }
   ],
   "source": [
    "r_c = 1000\n",
    "classifier = MultiOutputClassifier(SVC(C=r_c,kernel='rbf',random_state=42),n_jobs=-1)\n",
    "score = calculate_score(classifier, X_train_0, y_train_0, X_test_0, y_test_0)\n",
    "score"
   ]
  },
  {
   "cell_type": "markdown",
   "id": "eff609fa",
   "metadata": {},
   "source": [
    "#### Mejores score del dataset1"
   ]
  },
  {
   "cell_type": "code",
   "execution_count": 68,
   "id": "532e0e3d",
   "metadata": {},
   "outputs": [
    {
     "data": {
      "text/plain": [
       "0.989"
      ]
     },
     "execution_count": 68,
     "metadata": {},
     "output_type": "execute_result"
    }
   ],
   "source": [
    "r_c = 1000\n",
    "classifier = MultiOutputClassifier(SVC(C=r_c,kernel='rbf',random_state=42),n_jobs=-1)\n",
    "score = calculate_score(classifier, X_train_1, y_train_1, X_test_1, y_test_1)\n",
    "score"
   ]
  },
  {
   "cell_type": "markdown",
   "id": "90845e8a",
   "metadata": {},
   "source": [
    "### c) Usad $\\texttt{GradientBoostingClassifier}$ con diferentes valores para el número de estimadores y la profundidad máxima de los árboles. La cantidad de estimadores no tiene que ser muy grande, pero probablemente necesitaréis alrededor de 50 árboles con la tasa de aprendizaje predeterminada. Además, los árboles demasiado poco profundos darán malos resultados. Evaluad el acierto sobre el test como en el apartado anterior.\n",
    "\n",
    "### Podéis acceder a los clasificadores individuales del clasificador de salida múltiple con el atributo $\\texttt{estimator\\_}$. Obtened la importancia de los atributos para cada clasificador que encontraréis en el atributo $\\texttt{feature\\_importances}$ e interpretad los resultados."
   ]
  },
  {
   "cell_type": "markdown",
   "id": "6e3c2375",
   "metadata": {},
   "source": [
    "#### Para el dataset0"
   ]
  },
  {
   "cell_type": "code",
   "execution_count": 71,
   "id": "80c23f1f",
   "metadata": {},
   "outputs": [
    {
     "ename": "KeyboardInterrupt",
     "evalue": "",
     "output_type": "error",
     "traceback": [
      "\u001b[0;31m---------------------------------------------------------------------------\u001b[0m",
      "\u001b[0;31mKeyboardInterrupt\u001b[0m                         Traceback (most recent call last)",
      "Cell \u001b[0;32mIn [71], line 4\u001b[0m\n\u001b[1;32m      1\u001b[0m estimators \u001b[38;5;241m=\u001b[39m [\u001b[38;5;241m5\u001b[39m, \u001b[38;5;241m10\u001b[39m, \u001b[38;5;241m20\u001b[39m, \u001b[38;5;241m30\u001b[39m, \u001b[38;5;241m50\u001b[39m, \u001b[38;5;241m70\u001b[39m, \u001b[38;5;241m90\u001b[39m, \u001b[38;5;241m100\u001b[39m]\n\u001b[1;32m      2\u001b[0m max_depths \u001b[38;5;241m=\u001b[39m [\u001b[38;5;28;01mNone\u001b[39;00m, \u001b[38;5;241m1\u001b[39m, \u001b[38;5;241m2\u001b[39m, \u001b[38;5;241m3\u001b[39m, \u001b[38;5;241m5\u001b[39m, \u001b[38;5;241m8\u001b[39m, \u001b[38;5;241m10\u001b[39m, \u001b[38;5;241m15\u001b[39m, \u001b[38;5;241m20\u001b[39m]\n\u001b[0;32m----> 4\u001b[0m resultados \u001b[38;5;241m=\u001b[39m [\n\u001b[1;32m      5\u001b[0m     (estimator, \n\u001b[1;32m      6\u001b[0m      [MultiOutputClassifier(GradientBoostingClassifier(n_estimators\u001b[38;5;241m=\u001b[39mestimator, max_depth\u001b[38;5;241m=\u001b[39mm_d),\n\u001b[1;32m      7\u001b[0m                             n_jobs\u001b[38;5;241m=\u001b[39m\u001b[38;5;241m-\u001b[39m\u001b[38;5;241m1\u001b[39m)\u001b[38;5;241m.\u001b[39mfit(X_train_0, y_train_0)\u001b[38;5;241m.\u001b[39mscore(X_test_0, y_test_0) \u001b[38;5;28;01mfor\u001b[39;00m m_d \u001b[38;5;129;01min\u001b[39;00m max_depths])\n\u001b[1;32m      8\u001b[0m     \u001b[38;5;28;01mfor\u001b[39;00m estimator \u001b[38;5;129;01min\u001b[39;00m estimators\n\u001b[1;32m      9\u001b[0m ]\n\u001b[1;32m     10\u001b[0m \u001b[38;5;28mprint\u001b[39m(resultados)\n",
      "Cell \u001b[0;32mIn [71], line 6\u001b[0m, in \u001b[0;36m<listcomp>\u001b[0;34m(.0)\u001b[0m\n\u001b[1;32m      1\u001b[0m estimators \u001b[38;5;241m=\u001b[39m [\u001b[38;5;241m5\u001b[39m, \u001b[38;5;241m10\u001b[39m, \u001b[38;5;241m20\u001b[39m, \u001b[38;5;241m30\u001b[39m, \u001b[38;5;241m50\u001b[39m, \u001b[38;5;241m70\u001b[39m, \u001b[38;5;241m90\u001b[39m, \u001b[38;5;241m100\u001b[39m]\n\u001b[1;32m      2\u001b[0m max_depths \u001b[38;5;241m=\u001b[39m [\u001b[38;5;28;01mNone\u001b[39;00m, \u001b[38;5;241m1\u001b[39m, \u001b[38;5;241m2\u001b[39m, \u001b[38;5;241m3\u001b[39m, \u001b[38;5;241m5\u001b[39m, \u001b[38;5;241m8\u001b[39m, \u001b[38;5;241m10\u001b[39m, \u001b[38;5;241m15\u001b[39m, \u001b[38;5;241m20\u001b[39m]\n\u001b[1;32m      4\u001b[0m resultados \u001b[38;5;241m=\u001b[39m [\n\u001b[1;32m      5\u001b[0m     (estimator, \n\u001b[0;32m----> 6\u001b[0m      [MultiOutputClassifier(GradientBoostingClassifier(n_estimators\u001b[38;5;241m=\u001b[39mestimator, max_depth\u001b[38;5;241m=\u001b[39mm_d),\n\u001b[1;32m      7\u001b[0m                             n_jobs\u001b[38;5;241m=\u001b[39m\u001b[38;5;241m-\u001b[39m\u001b[38;5;241m1\u001b[39m)\u001b[38;5;241m.\u001b[39mfit(X_train_0, y_train_0)\u001b[38;5;241m.\u001b[39mscore(X_test_0, y_test_0) \u001b[38;5;28;01mfor\u001b[39;00m m_d \u001b[38;5;129;01min\u001b[39;00m max_depths])\n\u001b[1;32m      8\u001b[0m     \u001b[38;5;28;01mfor\u001b[39;00m estimator \u001b[38;5;129;01min\u001b[39;00m estimators\n\u001b[1;32m      9\u001b[0m ]\n\u001b[1;32m     10\u001b[0m \u001b[38;5;28mprint\u001b[39m(resultados)\n",
      "Cell \u001b[0;32mIn [71], line 7\u001b[0m, in \u001b[0;36m<listcomp>\u001b[0;34m(.0)\u001b[0m\n\u001b[1;32m      1\u001b[0m estimators \u001b[38;5;241m=\u001b[39m [\u001b[38;5;241m5\u001b[39m, \u001b[38;5;241m10\u001b[39m, \u001b[38;5;241m20\u001b[39m, \u001b[38;5;241m30\u001b[39m, \u001b[38;5;241m50\u001b[39m, \u001b[38;5;241m70\u001b[39m, \u001b[38;5;241m90\u001b[39m, \u001b[38;5;241m100\u001b[39m]\n\u001b[1;32m      2\u001b[0m max_depths \u001b[38;5;241m=\u001b[39m [\u001b[38;5;28;01mNone\u001b[39;00m, \u001b[38;5;241m1\u001b[39m, \u001b[38;5;241m2\u001b[39m, \u001b[38;5;241m3\u001b[39m, \u001b[38;5;241m5\u001b[39m, \u001b[38;5;241m8\u001b[39m, \u001b[38;5;241m10\u001b[39m, \u001b[38;5;241m15\u001b[39m, \u001b[38;5;241m20\u001b[39m]\n\u001b[1;32m      4\u001b[0m resultados \u001b[38;5;241m=\u001b[39m [\n\u001b[1;32m      5\u001b[0m     (estimator, \n\u001b[1;32m      6\u001b[0m      [\u001b[43mMultiOutputClassifier\u001b[49m\u001b[43m(\u001b[49m\u001b[43mGradientBoostingClassifier\u001b[49m\u001b[43m(\u001b[49m\u001b[43mn_estimators\u001b[49m\u001b[38;5;241;43m=\u001b[39;49m\u001b[43mestimator\u001b[49m\u001b[43m,\u001b[49m\u001b[43m \u001b[49m\u001b[43mmax_depth\u001b[49m\u001b[38;5;241;43m=\u001b[39;49m\u001b[43mm_d\u001b[49m\u001b[43m)\u001b[49m\u001b[43m,\u001b[49m\n\u001b[0;32m----> 7\u001b[0m \u001b[43m                            \u001b[49m\u001b[43mn_jobs\u001b[49m\u001b[38;5;241;43m=\u001b[39;49m\u001b[38;5;241;43m-\u001b[39;49m\u001b[38;5;241;43m1\u001b[39;49m\u001b[43m)\u001b[49m\u001b[38;5;241;43m.\u001b[39;49m\u001b[43mfit\u001b[49m\u001b[43m(\u001b[49m\u001b[43mX_train_0\u001b[49m\u001b[43m,\u001b[49m\u001b[43m \u001b[49m\u001b[43my_train_0\u001b[49m\u001b[43m)\u001b[49m\u001b[38;5;241m.\u001b[39mscore(X_test_0, y_test_0) \u001b[38;5;28;01mfor\u001b[39;00m m_d \u001b[38;5;129;01min\u001b[39;00m max_depths])\n\u001b[1;32m      8\u001b[0m     \u001b[38;5;28;01mfor\u001b[39;00m estimator \u001b[38;5;129;01min\u001b[39;00m estimators\n\u001b[1;32m      9\u001b[0m ]\n\u001b[1;32m     10\u001b[0m \u001b[38;5;28mprint\u001b[39m(resultados)\n",
      "File \u001b[0;32m/usr/local/lib/python3.10/site-packages/sklearn/multioutput.py:451\u001b[0m, in \u001b[0;36mMultiOutputClassifier.fit\u001b[0;34m(self, X, Y, sample_weight, **fit_params)\u001b[0m\n\u001b[1;32m    425\u001b[0m \u001b[38;5;28;01mdef\u001b[39;00m \u001b[38;5;21mfit\u001b[39m(\u001b[38;5;28mself\u001b[39m, X, Y, sample_weight\u001b[38;5;241m=\u001b[39m\u001b[38;5;28;01mNone\u001b[39;00m, \u001b[38;5;241m*\u001b[39m\u001b[38;5;241m*\u001b[39mfit_params):\n\u001b[1;32m    426\u001b[0m     \u001b[38;5;124;03m\"\"\"Fit the model to data matrix X and targets Y.\u001b[39;00m\n\u001b[1;32m    427\u001b[0m \n\u001b[1;32m    428\u001b[0m \u001b[38;5;124;03m    Parameters\u001b[39;00m\n\u001b[0;32m   (...)\u001b[0m\n\u001b[1;32m    449\u001b[0m \u001b[38;5;124;03m        Returns a fitted instance.\u001b[39;00m\n\u001b[1;32m    450\u001b[0m \u001b[38;5;124;03m    \"\"\"\u001b[39;00m\n\u001b[0;32m--> 451\u001b[0m     \u001b[38;5;28;43msuper\u001b[39;49m\u001b[43m(\u001b[49m\u001b[43m)\u001b[49m\u001b[38;5;241;43m.\u001b[39;49m\u001b[43mfit\u001b[49m\u001b[43m(\u001b[49m\u001b[43mX\u001b[49m\u001b[43m,\u001b[49m\u001b[43m \u001b[49m\u001b[43mY\u001b[49m\u001b[43m,\u001b[49m\u001b[43m \u001b[49m\u001b[43msample_weight\u001b[49m\u001b[43m,\u001b[49m\u001b[43m \u001b[49m\u001b[38;5;241;43m*\u001b[39;49m\u001b[38;5;241;43m*\u001b[39;49m\u001b[43mfit_params\u001b[49m\u001b[43m)\u001b[49m\n\u001b[1;32m    452\u001b[0m     \u001b[38;5;28mself\u001b[39m\u001b[38;5;241m.\u001b[39mclasses_ \u001b[38;5;241m=\u001b[39m [estimator\u001b[38;5;241m.\u001b[39mclasses_ \u001b[38;5;28;01mfor\u001b[39;00m estimator \u001b[38;5;129;01min\u001b[39;00m \u001b[38;5;28mself\u001b[39m\u001b[38;5;241m.\u001b[39mestimators_]\n\u001b[1;32m    453\u001b[0m     \u001b[38;5;28;01mreturn\u001b[39;00m \u001b[38;5;28mself\u001b[39m\n",
      "File \u001b[0;32m/usr/local/lib/python3.10/site-packages/sklearn/multioutput.py:217\u001b[0m, in \u001b[0;36m_MultiOutputEstimator.fit\u001b[0;34m(self, X, y, sample_weight, **fit_params)\u001b[0m\n\u001b[1;32m    213\u001b[0m     \u001b[38;5;28;01mraise\u001b[39;00m \u001b[38;5;167;01mValueError\u001b[39;00m(\u001b[38;5;124m\"\u001b[39m\u001b[38;5;124mUnderlying estimator does not support sample weights.\u001b[39m\u001b[38;5;124m\"\u001b[39m)\n\u001b[1;32m    215\u001b[0m fit_params_validated \u001b[38;5;241m=\u001b[39m _check_fit_params(X, fit_params)\n\u001b[0;32m--> 217\u001b[0m \u001b[38;5;28mself\u001b[39m\u001b[38;5;241m.\u001b[39mestimators_ \u001b[38;5;241m=\u001b[39m \u001b[43mParallel\u001b[49m\u001b[43m(\u001b[49m\u001b[43mn_jobs\u001b[49m\u001b[38;5;241;43m=\u001b[39;49m\u001b[38;5;28;43mself\u001b[39;49m\u001b[38;5;241;43m.\u001b[39;49m\u001b[43mn_jobs\u001b[49m\u001b[43m)\u001b[49m\u001b[43m(\u001b[49m\n\u001b[1;32m    218\u001b[0m \u001b[43m    \u001b[49m\u001b[43mdelayed\u001b[49m\u001b[43m(\u001b[49m\u001b[43m_fit_estimator\u001b[49m\u001b[43m)\u001b[49m\u001b[43m(\u001b[49m\n\u001b[1;32m    219\u001b[0m \u001b[43m        \u001b[49m\u001b[38;5;28;43mself\u001b[39;49m\u001b[38;5;241;43m.\u001b[39;49m\u001b[43mestimator\u001b[49m\u001b[43m,\u001b[49m\u001b[43m \u001b[49m\u001b[43mX\u001b[49m\u001b[43m,\u001b[49m\u001b[43m \u001b[49m\u001b[43my\u001b[49m\u001b[43m[\u001b[49m\u001b[43m:\u001b[49m\u001b[43m,\u001b[49m\u001b[43m \u001b[49m\u001b[43mi\u001b[49m\u001b[43m]\u001b[49m\u001b[43m,\u001b[49m\u001b[43m \u001b[49m\u001b[43msample_weight\u001b[49m\u001b[43m,\u001b[49m\u001b[43m \u001b[49m\u001b[38;5;241;43m*\u001b[39;49m\u001b[38;5;241;43m*\u001b[39;49m\u001b[43mfit_params_validated\u001b[49m\n\u001b[1;32m    220\u001b[0m \u001b[43m    \u001b[49m\u001b[43m)\u001b[49m\n\u001b[1;32m    221\u001b[0m \u001b[43m    \u001b[49m\u001b[38;5;28;43;01mfor\u001b[39;49;00m\u001b[43m \u001b[49m\u001b[43mi\u001b[49m\u001b[43m \u001b[49m\u001b[38;5;129;43;01min\u001b[39;49;00m\u001b[43m \u001b[49m\u001b[38;5;28;43mrange\u001b[39;49m\u001b[43m(\u001b[49m\u001b[43my\u001b[49m\u001b[38;5;241;43m.\u001b[39;49m\u001b[43mshape\u001b[49m\u001b[43m[\u001b[49m\u001b[38;5;241;43m1\u001b[39;49m\u001b[43m]\u001b[49m\u001b[43m)\u001b[49m\n\u001b[1;32m    222\u001b[0m \u001b[43m\u001b[49m\u001b[43m)\u001b[49m\n\u001b[1;32m    224\u001b[0m \u001b[38;5;28;01mif\u001b[39;00m \u001b[38;5;28mhasattr\u001b[39m(\u001b[38;5;28mself\u001b[39m\u001b[38;5;241m.\u001b[39mestimators_[\u001b[38;5;241m0\u001b[39m], \u001b[38;5;124m\"\u001b[39m\u001b[38;5;124mn_features_in_\u001b[39m\u001b[38;5;124m\"\u001b[39m):\n\u001b[1;32m    225\u001b[0m     \u001b[38;5;28mself\u001b[39m\u001b[38;5;241m.\u001b[39mn_features_in_ \u001b[38;5;241m=\u001b[39m \u001b[38;5;28mself\u001b[39m\u001b[38;5;241m.\u001b[39mestimators_[\u001b[38;5;241m0\u001b[39m]\u001b[38;5;241m.\u001b[39mn_features_in_\n",
      "File \u001b[0;32m/usr/local/lib/python3.10/site-packages/joblib/parallel.py:1098\u001b[0m, in \u001b[0;36mParallel.__call__\u001b[0;34m(self, iterable)\u001b[0m\n\u001b[1;32m   1095\u001b[0m     \u001b[38;5;28mself\u001b[39m\u001b[38;5;241m.\u001b[39m_iterating \u001b[38;5;241m=\u001b[39m \u001b[38;5;28;01mFalse\u001b[39;00m\n\u001b[1;32m   1097\u001b[0m \u001b[38;5;28;01mwith\u001b[39;00m \u001b[38;5;28mself\u001b[39m\u001b[38;5;241m.\u001b[39m_backend\u001b[38;5;241m.\u001b[39mretrieval_context():\n\u001b[0;32m-> 1098\u001b[0m     \u001b[38;5;28;43mself\u001b[39;49m\u001b[38;5;241;43m.\u001b[39;49m\u001b[43mretrieve\u001b[49m\u001b[43m(\u001b[49m\u001b[43m)\u001b[49m\n\u001b[1;32m   1099\u001b[0m \u001b[38;5;66;03m# Make sure that we get a last message telling us we are done\u001b[39;00m\n\u001b[1;32m   1100\u001b[0m elapsed_time \u001b[38;5;241m=\u001b[39m time\u001b[38;5;241m.\u001b[39mtime() \u001b[38;5;241m-\u001b[39m \u001b[38;5;28mself\u001b[39m\u001b[38;5;241m.\u001b[39m_start_time\n",
      "File \u001b[0;32m/usr/local/lib/python3.10/site-packages/joblib/parallel.py:975\u001b[0m, in \u001b[0;36mParallel.retrieve\u001b[0;34m(self)\u001b[0m\n\u001b[1;32m    973\u001b[0m \u001b[38;5;28;01mtry\u001b[39;00m:\n\u001b[1;32m    974\u001b[0m     \u001b[38;5;28;01mif\u001b[39;00m \u001b[38;5;28mgetattr\u001b[39m(\u001b[38;5;28mself\u001b[39m\u001b[38;5;241m.\u001b[39m_backend, \u001b[38;5;124m'\u001b[39m\u001b[38;5;124msupports_timeout\u001b[39m\u001b[38;5;124m'\u001b[39m, \u001b[38;5;28;01mFalse\u001b[39;00m):\n\u001b[0;32m--> 975\u001b[0m         \u001b[38;5;28mself\u001b[39m\u001b[38;5;241m.\u001b[39m_output\u001b[38;5;241m.\u001b[39mextend(\u001b[43mjob\u001b[49m\u001b[38;5;241;43m.\u001b[39;49m\u001b[43mget\u001b[49m\u001b[43m(\u001b[49m\u001b[43mtimeout\u001b[49m\u001b[38;5;241;43m=\u001b[39;49m\u001b[38;5;28;43mself\u001b[39;49m\u001b[38;5;241;43m.\u001b[39;49m\u001b[43mtimeout\u001b[49m\u001b[43m)\u001b[49m)\n\u001b[1;32m    976\u001b[0m     \u001b[38;5;28;01melse\u001b[39;00m:\n\u001b[1;32m    977\u001b[0m         \u001b[38;5;28mself\u001b[39m\u001b[38;5;241m.\u001b[39m_output\u001b[38;5;241m.\u001b[39mextend(job\u001b[38;5;241m.\u001b[39mget())\n",
      "File \u001b[0;32m/usr/local/lib/python3.10/site-packages/joblib/_parallel_backends.py:567\u001b[0m, in \u001b[0;36mLokyBackend.wrap_future_result\u001b[0;34m(future, timeout)\u001b[0m\n\u001b[1;32m    564\u001b[0m \u001b[38;5;124;03m\"\"\"Wrapper for Future.result to implement the same behaviour as\u001b[39;00m\n\u001b[1;32m    565\u001b[0m \u001b[38;5;124;03mAsyncResults.get from multiprocessing.\"\"\"\u001b[39;00m\n\u001b[1;32m    566\u001b[0m \u001b[38;5;28;01mtry\u001b[39;00m:\n\u001b[0;32m--> 567\u001b[0m     \u001b[38;5;28;01mreturn\u001b[39;00m \u001b[43mfuture\u001b[49m\u001b[38;5;241;43m.\u001b[39;49m\u001b[43mresult\u001b[49m\u001b[43m(\u001b[49m\u001b[43mtimeout\u001b[49m\u001b[38;5;241;43m=\u001b[39;49m\u001b[43mtimeout\u001b[49m\u001b[43m)\u001b[49m\n\u001b[1;32m    568\u001b[0m \u001b[38;5;28;01mexcept\u001b[39;00m CfTimeoutError \u001b[38;5;28;01mas\u001b[39;00m e:\n\u001b[1;32m    569\u001b[0m     \u001b[38;5;28;01mraise\u001b[39;00m \u001b[38;5;167;01mTimeoutError\u001b[39;00m \u001b[38;5;28;01mfrom\u001b[39;00m \u001b[38;5;21;01me\u001b[39;00m\n",
      "File \u001b[0;32m/usr/local/Cellar/python@3.10/3.10.8/Frameworks/Python.framework/Versions/3.10/lib/python3.10/concurrent/futures/_base.py:453\u001b[0m, in \u001b[0;36mFuture.result\u001b[0;34m(self, timeout)\u001b[0m\n\u001b[1;32m    450\u001b[0m \u001b[38;5;28;01melif\u001b[39;00m \u001b[38;5;28mself\u001b[39m\u001b[38;5;241m.\u001b[39m_state \u001b[38;5;241m==\u001b[39m FINISHED:\n\u001b[1;32m    451\u001b[0m     \u001b[38;5;28;01mreturn\u001b[39;00m \u001b[38;5;28mself\u001b[39m\u001b[38;5;241m.\u001b[39m__get_result()\n\u001b[0;32m--> 453\u001b[0m \u001b[38;5;28;43mself\u001b[39;49m\u001b[38;5;241;43m.\u001b[39;49m\u001b[43m_condition\u001b[49m\u001b[38;5;241;43m.\u001b[39;49m\u001b[43mwait\u001b[49m\u001b[43m(\u001b[49m\u001b[43mtimeout\u001b[49m\u001b[43m)\u001b[49m\n\u001b[1;32m    455\u001b[0m \u001b[38;5;28;01mif\u001b[39;00m \u001b[38;5;28mself\u001b[39m\u001b[38;5;241m.\u001b[39m_state \u001b[38;5;129;01min\u001b[39;00m [CANCELLED, CANCELLED_AND_NOTIFIED]:\n\u001b[1;32m    456\u001b[0m     \u001b[38;5;28;01mraise\u001b[39;00m CancelledError()\n",
      "File \u001b[0;32m/usr/local/Cellar/python@3.10/3.10.8/Frameworks/Python.framework/Versions/3.10/lib/python3.10/threading.py:320\u001b[0m, in \u001b[0;36mCondition.wait\u001b[0;34m(self, timeout)\u001b[0m\n\u001b[1;32m    318\u001b[0m \u001b[38;5;28;01mtry\u001b[39;00m:    \u001b[38;5;66;03m# restore state no matter what (e.g., KeyboardInterrupt)\u001b[39;00m\n\u001b[1;32m    319\u001b[0m     \u001b[38;5;28;01mif\u001b[39;00m timeout \u001b[38;5;129;01mis\u001b[39;00m \u001b[38;5;28;01mNone\u001b[39;00m:\n\u001b[0;32m--> 320\u001b[0m         \u001b[43mwaiter\u001b[49m\u001b[38;5;241;43m.\u001b[39;49m\u001b[43macquire\u001b[49m\u001b[43m(\u001b[49m\u001b[43m)\u001b[49m\n\u001b[1;32m    321\u001b[0m         gotit \u001b[38;5;241m=\u001b[39m \u001b[38;5;28;01mTrue\u001b[39;00m\n\u001b[1;32m    322\u001b[0m     \u001b[38;5;28;01melse\u001b[39;00m:\n",
      "\u001b[0;31mKeyboardInterrupt\u001b[0m: "
     ]
    }
   ],
   "source": [
    "estimators = [5, 10, 20, 30, 50, 70, 90, 100]\n",
    "max_depths = [None, 1, 2, 3, 5, 8, 10, 15, 20]\n",
    "\n",
    "resultados = [\n",
    "    (estimator, \n",
    "     [MultiOutputClassifier(GradientBoostingClassifier(n_estimators=estimator, max_depth=m_d),\n",
    "                            n_jobs=-1).fit(X_train_0, y_train_0).score(X_test_0, y_test_0) for m_d in max_depths])\n",
    "    for estimator in estimators\n",
    "]\n",
    "print(resultados)"
   ]
  },
  {
   "cell_type": "code",
   "execution_count": null,
   "id": "02f43025",
   "metadata": {},
   "outputs": [],
   "source": [
    "list_of_values_gb = list(map(lambda x: x[1], resultados))\n",
    "list_of_values_gb"
   ]
  },
  {
   "cell_type": "markdown",
   "id": "107b9ace",
   "metadata": {},
   "source": [
    "#### Ploteamos los resultados para el dataset0"
   ]
  },
  {
   "cell_type": "code",
   "execution_count": null,
   "id": "aa449480",
   "metadata": {},
   "outputs": [],
   "source": [
    "xvalues = np.arange(1, len(max_depths) + 1)\n",
    "max_depths = [str(m_d) for m_d in max_depths]\n",
    "names_estimators = [f\"{estimator} estimators\" for estimator in estimators]\n",
    "\n",
    "plt.title(\"dataset0 GBC\", fontsize=18, pad=20)\n",
    "plt.xticks(xvalues, max_depths)\n",
    "plt.yticks(np.arange(0, 1.05, 0.05))\n",
    "plt.ylabel(\"model score\")\n",
    "plt.xlabel(\"max tree depth\")\n",
    "\n",
    "for i, val in enumerate(estimators):\n",
    "    plt.plot(xvalues, list_of_values_gb[i])\n",
    "\n",
    "plt.legend(names_estimators)\n",
    "plt.grid()\n",
    "plt.show()"
   ]
  },
  {
   "cell_type": "markdown",
   "id": "b32a4b9b",
   "metadata": {},
   "source": [
    "#### Mejores parámetros para el GBC modelo"
   ]
  },
  {
   "cell_type": "code",
   "execution_count": null,
   "id": "6d939a37",
   "metadata": {},
   "outputs": [],
   "source": [
    "multi = MultiOutputClassifier(GradientBoostingClassifier(n_estimators=50,max_depth=10),n_jobs=1);\n",
    "multi.fit(X_train_0,y_train_0);\n",
    "multi.estimators_"
   ]
  },
  {
   "cell_type": "markdown",
   "id": "8db875ed",
   "metadata": {},
   "source": [
    "#### Para el dataset1"
   ]
  },
  {
   "cell_type": "code",
   "execution_count": null,
   "id": "006c619f",
   "metadata": {},
   "outputs": [],
   "source": [
    "estimators = [5, 10, 20, 30, 50, 70, 90, 100]\n",
    "max_depths = [None, 1, 2, 3, 5, 8, 10, 15, 20]\n",
    "\n",
    "resultados = [\n",
    "    (estimator, \n",
    "     [MultiOutputClassifier(GradientBoostingClassifier(n_estimators=estimator, max_depth=m_d),\n",
    "                            n_jobs=-1).fit(X_train_1, y_train_1).score(X_test_1, y_test_1) for m_d in max_depths])\n",
    "    for estimator in estimators\n",
    "]\n",
    "print(resultados)"
   ]
  },
  {
   "cell_type": "code",
   "execution_count": null,
   "id": "ed86f375",
   "metadata": {},
   "outputs": [],
   "source": [
    "list_of_values_gb = list(map(lambda x: x[1], resultados))\n",
    "list_of_values_gb"
   ]
  },
  {
   "cell_type": "markdown",
   "id": "bb103d4c",
   "metadata": {},
   "source": [
    "#### Ploteamos los resultados para el dataset1"
   ]
  },
  {
   "cell_type": "code",
   "execution_count": null,
   "id": "883e07ab",
   "metadata": {},
   "outputs": [],
   "source": [
    "xvalues = np.arange(1, len(max_depths) + 1)\n",
    "max_depths = [str(m_d) for m_d in max_depths]\n",
    "names_estimators = [f\"{estimator} estimators\" for estimator in estimators]\n",
    "\n",
    "plt.title(\"dataset0 GBC\", fontsize=18, pad=20)\n",
    "plt.xticks(xvalues, max_depths)\n",
    "plt.yticks(np.arange(0, 1.05, 0.05))\n",
    "plt.ylabel(\"model score\")\n",
    "plt.xlabel(\"max tree depth\")\n",
    "\n",
    "for i, val in enumerate(estimators):\n",
    "    plt.plot(xvalues, list_of_values_gb[i])\n",
    "\n",
    "plt.legend(names_estimators)\n",
    "plt.grid()\n",
    "plt.show()"
   ]
  },
  {
   "cell_type": "markdown",
   "id": "22f2e6d0",
   "metadata": {},
   "source": [
    "#### Using the best parameters for the GBC model"
   ]
  },
  {
   "cell_type": "code",
   "execution_count": null,
   "id": "44686b68",
   "metadata": {},
   "outputs": [],
   "source": [
    "multi = MultiOutputClassifier(GradientBoostingClassifier(n_estimators=50,max_depth=10),n_jobs=-1);\n",
    "multi.fit(X_train_1,y_train_1);\n",
    "multi.estimators_"
   ]
  },
  {
   "cell_type": "markdown",
   "id": "40a3ce20",
   "metadata": {},
   "source": [
    "### d) ¿Por qué creéis que los resultados de estos clasificadores son mejores que los del clasificador k vecinos más cercanos? ¿Por qué creéis que necesitamos menos ejemplos para estos resultados?"
   ]
  },
  {
   "cell_type": "code",
   "execution_count": null,
   "id": "19dada88",
   "metadata": {},
   "outputs": [],
   "source": []
  }
 ],
 "metadata": {
  "kernelspec": {
   "display_name": "Python 3 (ipykernel)",
   "language": "python",
   "name": "python3"
  },
  "language_info": {
   "codemirror_mode": {
    "name": "ipython",
    "version": 3
   },
   "file_extension": ".py",
   "mimetype": "text/x-python",
   "name": "python",
   "nbconvert_exporter": "python",
   "pygments_lexer": "ipython3",
   "version": "3.10.8"
  }
 },
 "nbformat": 4,
 "nbformat_minor": 5
}
